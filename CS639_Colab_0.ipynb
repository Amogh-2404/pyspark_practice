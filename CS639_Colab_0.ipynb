{
  "nbformat": 4,
  "nbformat_minor": 0,
  "metadata": {
    "kernelspec": {
      "display_name": "Python 3",
      "language": "python",
      "name": "python3"
    },
    "language_info": {
      "codemirror_mode": {
        "name": "ipython",
        "version": 3
      },
      "file_extension": ".py",
      "mimetype": "text/x-python",
      "name": "python",
      "nbconvert_exporter": "python",
      "pygments_lexer": "ipython3",
      "version": "3.7.3"
    },
    "colab": {
      "provenance": [],
      "machine_shape": "hm",
      "include_colab_link": true
    }
  },
  "cells": [
    {
      "cell_type": "markdown",
      "metadata": {
        "id": "view-in-github",
        "colab_type": "text"
      },
      "source": [
        "<a href=\"https://colab.research.google.com/github/Amogh-2404/pyspark_practice/blob/main/CS639_Colab_0.ipynb\" target=\"_parent\"><img src=\"https://colab.research.google.com/assets/colab-badge.svg\" alt=\"Open In Colab\"/></a>"
      ]
    },
    {
      "cell_type": "markdown",
      "metadata": {
        "id": "GTwDFnjHMk25"
      },
      "source": [
        "# CS639 - Colab 0\n",
        "## Spark Tutorial\n",
        "\n",
        "In this tutorial you will learn how to use [Apache Spark](https://spark.apache.org) in local mode on a Colab enviroment.\n",
        "\n",
        "Credits to [Tiziano Piccardi](http://piccardi.me/) for his Spark Tutorial used in the Applied Data Analysis class at EPFL."
      ]
    },
    {
      "cell_type": "markdown",
      "metadata": {
        "id": "eXQzA01OS_yQ"
      },
      "source": [
        "### Setup"
      ]
    },
    {
      "cell_type": "markdown",
      "metadata": {
        "id": "AbYZoVVWOZA5"
      },
      "source": [
        "Let's setup Spark on your Colab environment.  Run the cell below!"
      ]
    },
    {
      "cell_type": "code",
      "metadata": {
        "id": "dhzk3GE6S9RC"
      },
      "source": [
        "!pip install pyspark\n",
        "!pip install -U -q PyDrive2\n",
        "#the output 'xxx is not a symbolic link' will not affect your implementation or execution\n",
        "#to fix 'xxx is not a symbolic link', you can uncomment the lines starting from !mv xxxx\n",
        "#you may need to replace xxx.11 with the correct version if other errors come up after colab update\n",
        "#to get the correct version, use !ls /usr/local/lib to find out\n",
        "!mv /usr/local/lib/libtbbmalloc_proxy.so.2 /usr/local/lib/libtbbmalloc_proxy.so.2.backup\n",
        "!mv /usr/local/lib/libtbbmalloc.so.2 /usr/local/lib/libtbbmalloc.so.2.backup\n",
        "!mv /usr/local/lib/libtbbbind_2_5.so.3 /usr/local/lib/libtbbbind_2_5.so.3.backup\n",
        "!mv /usr/local/lib/libtbb.so.12 /usr/local/lib/libtbb.so.12.backup\n",
        "!mv /usr/local/lib/libtbbbind_2_0.so.3 /usr/local/lib/libtbbbind_2_0.so.3.backup\n",
        "!mv /usr/local/lib/libtbbbind.so.3 /usr/local/lib/libtbbbind.so.3.backup\n",
        "!ln -s /usr/local/lib/libtbbmalloc_proxy.so.2.11 /usr/local/lib/libtbbmalloc_proxy.so.2\n",
        "!ln -s /usr/local/lib/libtbbmalloc.so.2.11 /usr/local/lib/libtbbmalloc.so.2\n",
        "!ln -s /usr/local/lib/libtbbbind_2_5.so.3.11 /usr/local/lib/libtbbbind_2_5.so.3\n",
        "!ln -s /usr/local/lib/libtbb.so.12.11 /usr/local/lib/libtbb.so.12\n",
        "!ln -s /usr/local/lib/libtbbbind_2_0.so.3.11 /usr/local/lib/libtbbbind_2_0.so.3\n",
        "!ln -s /usr/local/lib/libtbbbind.so.3.11 /usr/local/lib/libtbbbind.so.3\n",
        "#If error related to the above execution occurs, you can try commenting out the above 12 lines under pip install PyDrive2 (not included)\n",
        "\n",
        "# !sudo ldconfig\n",
        "!apt install openjdk-8-jdk-headless -qq\n",
        "import os\n",
        "os.environ[\"JAVA_HOME\"] = \"/usr/lib/jvm/java-8-openjdk-amd64\"\n"
      ],
      "execution_count": null,
      "outputs": []
    },
    {
      "cell_type": "markdown",
      "metadata": {
        "id": "ctU1dYjfOif7"
      },
      "source": [
        "Now we authenticate a Google Drive client to download the file we will be processing in our Spark job.\n",
        "\n",
        "**Make sure to follow the interactive instructions.**"
      ]
    },
    {
      "cell_type": "code",
      "metadata": {
        "id": "1dfnX7IAOkvH"
      },
      "source": [
        "from pydrive2.auth import GoogleAuth\n",
        "from pydrive2.drive import GoogleDrive\n",
        "from google.colab import auth\n",
        "from oauth2client.client import GoogleCredentials\n",
        "\n",
        "# Authenticate and create the PyDrive client\n",
        "auth.authenticate_user()\n",
        "gauth = GoogleAuth()\n",
        "gauth.credentials = GoogleCredentials.get_application_default()\n",
        "drive = GoogleDrive(gauth)"
      ],
      "execution_count": null,
      "outputs": []
    },
    {
      "cell_type": "code",
      "metadata": {
        "id": "UF5nuSdyTJpc"
      },
      "source": [
        "id='1L6pCQkldvdBoaEhRFzL0VnrggEFvqON4'\n",
        "downloaded = drive.CreateFile({'id': id})\n",
        "downloaded.GetContentFile('Bombing_Operations.json.gz')\n",
        "\n",
        "id='14dyBmcTBA32uXPxDbqr0bFDIzGxMTWwl'\n",
        "downloaded = drive.CreateFile({'id': id})\n",
        "downloaded.GetContentFile('Aircraft_Glossary.json.gz')"
      ],
      "execution_count": null,
      "outputs": []
    },
    {
      "cell_type": "markdown",
      "metadata": {
        "id": "wA49WWqmO5rR"
      },
      "source": [
        "If you executed the cells above, you should be able to see the files *Bombing_Operations.json.gz* and *Aircraft_Glossary.json.gz* under the \"Files\" tab on the left panel."
      ]
    },
    {
      "cell_type": "code",
      "metadata": {
        "id": "xgQaRx6rSaf9"
      },
      "source": [
        "# Let's import the libraries we will need\n",
        "import pandas as pd\n",
        "import numpy as np\n",
        "import matplotlib.pyplot as plt\n",
        "%matplotlib inline\n",
        "\n",
        "import pyspark\n",
        "from pyspark.sql import *\n",
        "from pyspark.sql.functions import *\n",
        "from pyspark import SparkContext, SparkConf"
      ],
      "execution_count": null,
      "outputs": []
    },
    {
      "cell_type": "markdown",
      "metadata": {
        "id": "uUD5XpD_SagA"
      },
      "source": [
        "Let's initialize the Spark context.\n"
      ]
    },
    {
      "cell_type": "code",
      "metadata": {
        "id": "7ft3VivrSagB"
      },
      "source": [
        "# create the session\n",
        "conf = SparkConf().set(\"spark.ui.port\", \"4050\")\n",
        "\n",
        "# create the context\n",
        "sc = pyspark.SparkContext(conf=conf)\n",
        "spark = SparkSession.builder.getOrCreate()"
      ],
      "execution_count": null,
      "outputs": []
    },
    {
      "cell_type": "markdown",
      "metadata": {
        "id": "-n20ixkgSagD"
      },
      "source": [
        "You can easily check the current version and get the link of the web interface. In the Spark UI, you can monitor the progress of your job and debug the performance bottlenecks (if your Colab is running with a **local runtime**)."
      ]
    },
    {
      "cell_type": "code",
      "metadata": {
        "id": "Fl4RHbqFSagE",
        "colab": {
          "base_uri": "https://localhost:8080/",
          "height": 219
        },
        "outputId": "7327811e-d219-4436-92dd-5b8855a63cd8"
      },
      "source": [
        "spark"
      ],
      "execution_count": null,
      "outputs": [
        {
          "output_type": "execute_result",
          "data": {
            "text/plain": [
              "<pyspark.sql.session.SparkSession at 0x7f636b5e5c30>"
            ],
            "text/html": [
              "\n",
              "            <div>\n",
              "                <p><b>SparkSession - in-memory</b></p>\n",
              "                \n",
              "        <div>\n",
              "            <p><b>SparkContext</b></p>\n",
              "\n",
              "            <p><a href=\"http://7875da1e5e62:4050\">Spark UI</a></p>\n",
              "\n",
              "            <dl>\n",
              "              <dt>Version</dt>\n",
              "                <dd><code>v3.5.0</code></dd>\n",
              "              <dt>Master</dt>\n",
              "                <dd><code>local[*]</code></dd>\n",
              "              <dt>AppName</dt>\n",
              "                <dd><code>pyspark-shell</code></dd>\n",
              "            </dl>\n",
              "        </div>\n",
              "        \n",
              "            </div>\n",
              "        "
            ]
          },
          "metadata": {},
          "execution_count": 6
        }
      ]
    },
    {
      "cell_type": "markdown",
      "source": [
        "If you are running this Colab on the Google hosted runtime, the cell below will create a *ngrok* tunnel which will allow you to check the Spark UI.\n",
        "\n",
        "**This part is not needed for you to get correct result for colab 0, so you can ignore any error and continue.**\n",
        "\n",
        "**To facilitate setting up the ngrok tunnel, please do the following steps:**\n",
        "1. First, navigate to the ngrok website and create your account: https://dashboard.ngrok.com/login\n",
        "2. Then, obtain your authentication token from https://dashboard.ngrok.com/get-started/your-authtoken\n",
        "3. Replace \\<YOUR_AUTH_TOKEN_HERE\\> in the following cell with your auth token.\n",
        "\n",
        "You can then proceed to run the following cells, and you should be able to see the Spark UI as a separate web page.\n",
        "\n",
        "(If you see a security warning, \"Deceptive site ahead\", please click \"Details -> visit this unsafe site\" to view the Spark UI.)"
      ],
      "metadata": {
        "id": "MKu5Y1GZB1jQ"
      }
    },
    {
      "cell_type": "code",
      "source": [
        "# !wget https://bin.equinox.io/c/4VmDzA7iaHb/ngrok-stable-linux-amd64.zip\n",
        "# !unzip ngrok-stable-linux-amd64.zip\n",
        "!./ngrok authtoken 2az5hapy95TbZ7r9VBpPAWuPjrc_eBDg55s2tzvZ3JGPjX2z #replace this with your token\n",
        "!cat ~/.ngrok2/ngrok.yml\n",
        "get_ipython().system_raw('./ngrok http 4050 &')"
      ],
      "metadata": {
        "id": "vXYkcZuaB6QU"
      },
      "execution_count": null,
      "outputs": []
    },
    {
      "cell_type": "code",
      "source": [
        "!curl -s http://localhost:4040/api/tunnels"
      ],
      "metadata": {
        "id": "xNuFDyZaB7N-"
      },
      "execution_count": null,
      "outputs": []
    },
    {
      "cell_type": "markdown",
      "metadata": {
        "id": "gewv-lKMSagI"
      },
      "source": [
        "# Spark Example"
      ]
    },
    {
      "cell_type": "markdown",
      "metadata": {
        "id": "skjUv84VSagJ"
      },
      "source": [
        "----\n",
        "\n",
        "\n",
        "**The dataset description.**\n",
        "\n",
        "**Bombing_Operations** [Get the dataset here](https://drive.google.com/a/epfl.ch/file/d/1L6pCQkldvdBoaEhRFzL0VnrggEFvqON4/view?usp=sharing)\n",
        "\n",
        "- AirCraft: _Aircraft model (example: EC-47)_\n",
        "- ContryFlyingMission: _Country_\n",
        "- MissionDate: _Date of the mission_\n",
        "- OperationSupported\n",
        "- PeriodOfDay: _Day or night_\n",
        "- TakeoffLocation: _Take off airport_\n",
        "- TimeOnTarget\n",
        "- WeaponType\n",
        "- WeaponsLoadedWeight\n",
        "\n",
        "**Aircraft_Glossary** [Get the dataset here](https://drive.google.com/a/epfl.ch/file/d/14dyBmcTBA32uXPxDbqr0bFDIzGxMTWwl/view?usp=sharing)\n",
        "\n",
        "- AirCraft: _Aircraft model (example: EC-47)_\n",
        "- AirCraftName\n",
        "- AirCraftType\n"
      ]
    },
    {
      "cell_type": "markdown",
      "metadata": {
        "id": "VSWoULeWSagJ"
      },
      "source": [
        "Load the datasets:"
      ]
    },
    {
      "cell_type": "code",
      "metadata": {
        "id": "XLyVPuLXSagK"
      },
      "source": [
        "Bombing_Operations = spark.read.json(\"Bombing_Operations.json.gz\")\n",
        "Aircraft_Glossary = spark.read.json(\"Aircraft_Glossary.json.gz\")"
      ],
      "execution_count": null,
      "outputs": []
    },
    {
      "cell_type": "markdown",
      "metadata": {
        "id": "MP2JmCeoSagM"
      },
      "source": [
        "Check the schema:"
      ]
    },
    {
      "cell_type": "code",
      "metadata": {
        "id": "KpUT8viNSagM"
      },
      "source": [
        "Bombing_Operations.printSchema()"
      ],
      "execution_count": null,
      "outputs": []
    },
    {
      "cell_type": "code",
      "metadata": {
        "id": "6LJsbmlxSagO"
      },
      "source": [
        "Aircraft_Glossary.printSchema()"
      ],
      "execution_count": null,
      "outputs": []
    },
    {
      "cell_type": "markdown",
      "metadata": {
        "id": "1jP5IBezSagQ"
      },
      "source": [
        "Get a sample with `take()`:"
      ]
    },
    {
      "cell_type": "code",
      "metadata": {
        "id": "jrJpiG5ISagQ"
      },
      "source": [
        "Bombing_Operations.take(3)"
      ],
      "execution_count": null,
      "outputs": []
    },
    {
      "cell_type": "markdown",
      "metadata": {
        "id": "iu7n8KKjSagS"
      },
      "source": [
        "Get a formatted sample with `show()`:"
      ]
    },
    {
      "cell_type": "code",
      "metadata": {
        "id": "nwYZrwanSagT"
      },
      "source": [
        "Aircraft_Glossary.show()"
      ],
      "execution_count": null,
      "outputs": []
    },
    {
      "cell_type": "code",
      "metadata": {
        "id": "hMAab2rJSagU"
      },
      "source": [
        "print(\"In total there are {0} operations\".format(Bombing_Operations.count()))"
      ],
      "execution_count": null,
      "outputs": []
    },
    {
      "cell_type": "markdown",
      "metadata": {
        "id": "hkKWEEcLSagW"
      },
      "source": [
        "## Question 1: Which countries are involved and in how many missions?\n",
        "\n",
        "Keywords: `Dataframe API`, `SQL`, `group by`, `sort`"
      ]
    },
    {
      "cell_type": "markdown",
      "metadata": {
        "id": "MwPL1-P5SagW"
      },
      "source": [
        "Let's group the missions by `ContryFlyingMission` and count how many records exist:"
      ]
    },
    {
      "cell_type": "code",
      "metadata": {
        "scrolled": true,
        "id": "BWcMVcgwSagX"
      },
      "source": [
        "missions_counts = Bombing_Operations.groupBy(\"ContryFlyingMission\")\\\n",
        "                                    .agg(count(\"*\").alias(\"MissionsCount\"))\\\n",
        "                                    .sort(desc(\"MissionsCount\"))\n",
        "missions_counts.show()"
      ],
      "execution_count": null,
      "outputs": []
    },
    {
      "cell_type": "markdown",
      "metadata": {
        "id": "t5trEAkzSagY"
      },
      "source": [
        "In this case we used the DataFrame API, but we could rewite the `groupBy` using pure SQL:"
      ]
    },
    {
      "cell_type": "code",
      "metadata": {
        "id": "3slo-sXOSagZ"
      },
      "source": [
        "Bombing_Operations.createOrReplaceTempView(\"Bombing_Operations\")\n",
        "\n",
        "query = \"\"\"\n",
        "SELECT ContryFlyingMission, count(*) as MissionsCount\n",
        "FROM Bombing_Operations\n",
        "GROUP BY ContryFlyingMission\n",
        "ORDER BY MissionsCount DESC\n",
        "\"\"\"\n",
        "\n",
        "missions_counts = spark.sql(query)\n",
        "missions_counts.show()"
      ],
      "execution_count": null,
      "outputs": []
    },
    {
      "cell_type": "markdown",
      "metadata": {
        "id": "5wQNXQnOSaga"
      },
      "source": [
        "The Dataframe is small enough to be moved to Pandas:"
      ]
    },
    {
      "cell_type": "code",
      "metadata": {
        "id": "4nVJdPLDSagb"
      },
      "source": [
        "missions_count_pd = missions_counts.toPandas()\n",
        "missions_count_pd.head()"
      ],
      "execution_count": null,
      "outputs": []
    },
    {
      "cell_type": "markdown",
      "metadata": {
        "id": "VQedtuQZSagc"
      },
      "source": [
        "Let's plot a barchart with the number of missions by country:"
      ]
    },
    {
      "cell_type": "code",
      "metadata": {
        "id": "tgbceprDSagd"
      },
      "source": [
        "pl = missions_count_pd.plot(kind=\"bar\",\n",
        "                            x=\"ContryFlyingMission\", y=\"MissionsCount\",\n",
        "                            figsize=(10, 7), log=True, alpha=0.5, color=\"olive\")\n",
        "pl.set_xlabel(\"Country\")\n",
        "pl.set_ylabel(\"Number of Missions (Log scale)\")\n",
        "pl.set_title(\"Number of missions by Country\")"
      ],
      "execution_count": null,
      "outputs": []
    },
    {
      "cell_type": "markdown",
      "metadata": {
        "id": "1jCZfwK2Sage"
      },
      "source": [
        "----"
      ]
    },
    {
      "cell_type": "markdown",
      "metadata": {
        "id": "LLan66cXSagf"
      },
      "source": [
        "## Questions 2: Show the number of missions in time for each of the countries involved.\n",
        "\n",
        "Keywords: `group by`, `parse date`, `plot`\n",
        "\n",
        "Let's select the relevant columns:"
      ]
    },
    {
      "cell_type": "code",
      "metadata": {
        "id": "BXNKt5PHSagf"
      },
      "source": [
        "missions_countries = Bombing_Operations.selectExpr([\"to_date(MissionDate) as MissionDate\", \"ContryFlyingMission\"])\n",
        "missions_countries"
      ],
      "execution_count": null,
      "outputs": []
    },
    {
      "cell_type": "markdown",
      "metadata": {
        "id": "da9IeKntSagh"
      },
      "source": [
        "The filed MissionDate is converted to a Python `date` object.\n",
        "\n",
        "Now we can group by `MissionDate` and `ContryFlyingMission` to get the count:"
      ]
    },
    {
      "cell_type": "code",
      "metadata": {
        "id": "TLza0bF9Sagh"
      },
      "source": [
        "missions_by_date = missions_countries\\\n",
        "                    .groupBy([\"MissionDate\", \"ContryFlyingMission\"])\\\n",
        "                    .agg(count(\"*\").alias(\"MissionsCount\"))\\\n",
        "                    .sort(asc(\"MissionDate\")).toPandas()\n",
        "missions_by_date.head()"
      ],
      "execution_count": null,
      "outputs": []
    },
    {
      "cell_type": "markdown",
      "metadata": {
        "id": "IAhOE55wSagj"
      },
      "source": [
        "Now we can plot the content with a different series for each country:"
      ]
    },
    {
      "cell_type": "code",
      "metadata": {
        "id": "wLq6ulAySagl"
      },
      "source": [
        "fig = plt.figure(figsize=(10, 6))\n",
        "\n",
        "# iterate the different groups to create a different series\n",
        "for country, missions in missions_by_date.groupby(\"ContryFlyingMission\"):\n",
        "    plt.plot(missions[\"MissionDate\"], missions[\"MissionsCount\"], label=country)\n",
        "\n",
        "plt.legend(loc='best')"
      ],
      "execution_count": null,
      "outputs": []
    },
    {
      "cell_type": "markdown",
      "metadata": {
        "id": "GEMzTwxGSagp"
      },
      "source": [
        "We can observe how South Vietnam increased its missions starting from 1970. The drop in 1973 is motivated by the [Paris Peace Accords](https://en.wikipedia.org/wiki/Paris_Peace_Accords) that took place on January 27th, 1973, to establish peace in Vietnam and end the war."
      ]
    },
    {
      "cell_type": "markdown",
      "metadata": {
        "id": "dl6m0B6iSagp"
      },
      "source": [
        "----"
      ]
    },
    {
      "cell_type": "markdown",
      "metadata": {
        "id": "uEwBspLySagp"
      },
      "source": [
        "## Question 3: Who bombed this location?\n",
        "\n",
        "Keywords: `RDD map reduce` `cache` `save results`"
      ]
    },
    {
      "cell_type": "code",
      "metadata": {
        "id": "uq6jqsgBSagq"
      },
      "source": [
        "jun_29_operations = Bombing_Operations.where(\"MissionDate = '1966-06-29' AND TargetCountry='NORTH VIETNAM'\")"
      ],
      "execution_count": null,
      "outputs": []
    },
    {
      "cell_type": "markdown",
      "metadata": {
        "id": "Qurjwd0zSagr"
      },
      "source": [
        "Which coutries scheduled missions that day?"
      ]
    },
    {
      "cell_type": "code",
      "metadata": {
        "id": "uoiVSE7NSags"
      },
      "source": [
        "jun_29_operations.groupBy(\"ContryFlyingMission\").agg(count(\"*\").alias(\"MissionsCount\")).toPandas()"
      ],
      "execution_count": null,
      "outputs": []
    },
    {
      "cell_type": "markdown",
      "metadata": {
        "id": "-0Q2bS4KSagt"
      },
      "source": [
        "Most of the operation that day were performed by USA airplanes."
      ]
    },
    {
      "cell_type": "code",
      "metadata": {
        "id": "cLec-CkmSagu"
      },
      "source": [
        "jun_29_operations.take(1)"
      ],
      "execution_count": null,
      "outputs": []
    },
    {
      "cell_type": "markdown",
      "metadata": {
        "id": "77XdZuNDSagv"
      },
      "source": [
        "You can specify to cache the content in memory:"
      ]
    },
    {
      "cell_type": "code",
      "metadata": {
        "id": "q45a-OYwSagw"
      },
      "source": [
        "jun_29_operations.cache()"
      ],
      "execution_count": null,
      "outputs": []
    },
    {
      "cell_type": "markdown",
      "metadata": {
        "id": "feWOqgKISagx"
      },
      "source": [
        "Now you can count the number of rows and move the content to the cache:"
      ]
    },
    {
      "cell_type": "code",
      "metadata": {
        "id": "vIpLEQrlSagx"
      },
      "source": [
        "%time jun_29_operations.count()"
      ],
      "execution_count": null,
      "outputs": []
    },
    {
      "cell_type": "markdown",
      "metadata": {
        "id": "uCTEq5LZSagz"
      },
      "source": [
        "The second time the content is cached and the operation is much faster:"
      ]
    },
    {
      "cell_type": "code",
      "metadata": {
        "id": "6oZtHYspSagz"
      },
      "source": [
        "%time jun_29_operations.count()"
      ],
      "execution_count": null,
      "outputs": []
    },
    {
      "cell_type": "markdown",
      "metadata": {
        "id": "_4Hzke2kSag1"
      },
      "source": [
        "You can also save the results on a file..."
      ]
    },
    {
      "cell_type": "code",
      "metadata": {
        "id": "4_2p0Ha9Sag1"
      },
      "source": [
        "jun_29_operations.write.mode('overwrite').json(\"jun_29_operations.json\")"
      ],
      "execution_count": null,
      "outputs": []
    },
    {
      "cell_type": "markdown",
      "metadata": {
        "id": "OJwG61TNSag3"
      },
      "source": [
        "... and read from the file:"
      ]
    },
    {
      "cell_type": "code",
      "metadata": {
        "id": "JTe1l78_Sag4"
      },
      "source": [
        "jun_29_operations = spark.read.json(\"jun_29_operations.json\")"
      ],
      "execution_count": null,
      "outputs": []
    },
    {
      "cell_type": "markdown",
      "metadata": {
        "id": "DEW08u3_Sag6"
      },
      "source": [
        "We can use the simple DataFrame API..."
      ]
    },
    {
      "cell_type": "code",
      "metadata": {
        "id": "UYO-CuHISag8"
      },
      "source": [
        "TakeoffLocationCounts = jun_29_operations\\\n",
        "                            .groupBy(\"TakeoffLocation\").agg(count(\"*\").alias(\"MissionsCount\"))\\\n",
        "                            .sort(desc(\"MissionsCount\"))\n",
        "TakeoffLocationCounts.show()"
      ],
      "execution_count": null,
      "outputs": []
    },
    {
      "cell_type": "markdown",
      "metadata": {
        "id": "2PHZStWQSag9"
      },
      "source": [
        "... or the explicit Map/Reduce format with RDDs.\n",
        "\n",
        "First we emit a pair in the format (Location, 1):"
      ]
    },
    {
      "cell_type": "code",
      "metadata": {
        "id": "OgEeKdtYSag9"
      },
      "source": [
        "all_locations = jun_29_operations.rdd.map(lambda row: (row.TakeoffLocation, 1))\n",
        "all_locations.take(3)"
      ],
      "execution_count": null,
      "outputs": []
    },
    {
      "cell_type": "markdown",
      "metadata": {
        "id": "Akm81xVxSag_"
      },
      "source": [
        "Then, we sum counters in the reduce step, and we sort by count:"
      ]
    },
    {
      "cell_type": "code",
      "metadata": {
        "id": "_hVvIF_WSag_"
      },
      "source": [
        "locations_counts_rdd = all_locations.reduceByKey(lambda a, b: a+b).sortBy(lambda r: -r[1])\n",
        "locations_counts_rdd.take(3)"
      ],
      "execution_count": null,
      "outputs": []
    },
    {
      "cell_type": "markdown",
      "metadata": {
        "id": "od5h9c6qSahB"
      },
      "source": [
        "Now we can convert the RDD in dataframe by mapping the pairs to objects of type `Row`"
      ]
    },
    {
      "cell_type": "code",
      "metadata": {
        "id": "KNDn84R_SahB"
      },
      "source": [
        "locations_counts_with_schema = locations_counts_rdd.map(lambda r: Row(TakeoffLocation=r[0], MissionsCount=r[1]))\n",
        "locations_counts = spark.createDataFrame(locations_counts_with_schema)\n",
        "locations_counts.show()"
      ],
      "execution_count": null,
      "outputs": []
    },
    {
      "cell_type": "markdown",
      "metadata": {
        "id": "cE8asfBPSahD"
      },
      "source": [
        "<img style=\"float: right;\" src=\"https://raw.githubusercontent.com/epfl-ada/2019/c17af0d3c73f11cb083717b7408fedd86245dc4d/Tutorials/04%20-%20Scaling%20Up/img/USS_Constellation.jpg\">\n",
        "\n",
        "\n",
        "That day the most common take-off location was the ship USS Constellation (CV-64). We cannot univocally identify one take off location, but we can reduce the possible candidates. Next steps: explore TimeOnTarget feature.\n",
        "\n",
        "_USS Constellation (CV-64), a Kitty Hawk-class supercarrier, was the third ship of the United States Navy to be named in honor of the \"new constellation of stars\" on the flag of the United States. One of the fastest ships in the Navy, as proven by her victory during a battlegroup race held in 1985, she was nicknamed \"Connie\" by her crew and officially as \"America's Flagship\"._"
      ]
    },
    {
      "cell_type": "markdown",
      "metadata": {
        "id": "lKKM6VS8SahD"
      },
      "source": [
        "----"
      ]
    },
    {
      "cell_type": "markdown",
      "metadata": {
        "id": "aaiVcdF8SahD"
      },
      "source": [
        "## Questions 4: What is the most used aircraft type (number of missions)?\n",
        "\n",
        "Keywords: `join` `group by`"
      ]
    },
    {
      "cell_type": "markdown",
      "metadata": {
        "id": "xnV48FZlSahG"
      },
      "source": [
        "Let's check the content of `Aircraft_Glossary`:"
      ]
    },
    {
      "cell_type": "code",
      "metadata": {
        "id": "yovhBV5sSahI"
      },
      "source": [
        "Aircraft_Glossary.show(5)"
      ],
      "execution_count": null,
      "outputs": []
    },
    {
      "cell_type": "markdown",
      "metadata": {
        "id": "yO0ExxRoSahJ"
      },
      "source": [
        "We are interested in the filed `AirCraftType`."
      ]
    },
    {
      "cell_type": "code",
      "metadata": {
        "id": "Z4DnpCTmSahJ"
      },
      "source": [
        "Bombing_Operations.select(\"AirCraft\").show(5)"
      ],
      "execution_count": null,
      "outputs": []
    },
    {
      "cell_type": "markdown",
      "metadata": {
        "id": "Z97Y9DuUSahK"
      },
      "source": [
        "We can join on the column `AirCraft` of both dataframes."
      ]
    },
    {
      "cell_type": "markdown",
      "metadata": {
        "id": "9txA3mx1SahL"
      },
      "source": [
        "With Dataframe API:"
      ]
    },
    {
      "cell_type": "code",
      "metadata": {
        "id": "s3j3Fu8kSahL"
      },
      "source": [
        "missions_joined = Bombing_Operations.join(Aircraft_Glossary,\n",
        "                                          Bombing_Operations.AirCraft == Aircraft_Glossary.AirCraft)\n",
        "missions_joined"
      ],
      "execution_count": null,
      "outputs": []
    },
    {
      "cell_type": "markdown",
      "metadata": {
        "id": "QhQbN8AOSahN"
      },
      "source": [
        "We can select only the field we are interested in:"
      ]
    },
    {
      "cell_type": "code",
      "metadata": {
        "id": "s5KgFBXASahO"
      },
      "source": [
        "missions_aircrafts = missions_joined.select(\"AirCraftType\")\n",
        "missions_aircrafts.show(5)"
      ],
      "execution_count": null,
      "outputs": []
    },
    {
      "cell_type": "markdown",
      "metadata": {
        "id": "giUuCERTSahT"
      },
      "source": [
        "And finally we can group by `AirCraftType` and count:"
      ]
    },
    {
      "cell_type": "code",
      "metadata": {
        "id": "S0QytpygSahU"
      },
      "source": [
        "missions_aircrafts.groupBy(\"AirCraftType\").agg(count(\"*\").alias(\"MissionsCount\"))\\\n",
        "                  .sort(desc(\"MissionsCount\"))\\\n",
        "                  .show()"
      ],
      "execution_count": null,
      "outputs": []
    },
    {
      "cell_type": "markdown",
      "metadata": {
        "id": "2Y1043GMSahV"
      },
      "source": [
        "In alternative we can rewrite this in pure SQL:"
      ]
    },
    {
      "cell_type": "code",
      "metadata": {
        "id": "980KMZCOSahV"
      },
      "source": [
        "Bombing_Operations.createOrReplaceTempView(\"Bombing_Operations\")\n",
        "Aircraft_Glossary.createOrReplaceTempView(\"Aircraft_Glossary\")\n",
        "\n",
        "query = \"\"\"\n",
        "SELECT AirCraftType, count(*) MissionsCount\n",
        "FROM Bombing_Operations bo\n",
        "JOIN Aircraft_Glossary ag\n",
        "ON bo.AirCraft = ag.AirCraft\n",
        "GROUP BY AirCraftType\n",
        "ORDER BY MissionsCount DESC\n",
        "\"\"\"\n",
        "\n",
        "spark.sql(query).show()"
      ],
      "execution_count": null,
      "outputs": []
    },
    {
      "cell_type": "markdown",
      "metadata": {
        "id": "ffrW-oV2SahW"
      },
      "source": [
        "The aircrafts of type `Fighter Jet Bomber` participated in most of the missions.\n",
        "\n",
        "Note: This dataset would require further cleaning and normalization. See `Fighter Jet Bomber`, `Jet Fighter Bomber`, `Fighter bomber jet`"
      ]
    }
  ]
}